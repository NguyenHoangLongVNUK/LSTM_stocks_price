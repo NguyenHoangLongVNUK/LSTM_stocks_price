{
  "cells": [
    {
      "cell_type": "markdown",
      "metadata": {
        "id": "view-in-github",
        "colab_type": "text"
      },
      "source": [
        "<a href=\"https://colab.research.google.com/github/NguyenHoangLongVNUK/LSTM_stocks_price/blob/main/Interview_Finpros_deeplearning_LSTM_model.ipynb\" target=\"_parent\"><img src=\"https://colab.research.google.com/assets/colab-badge.svg\" alt=\"Open In Colab\"/></a>"
      ]
    },
    {
      "cell_type": "code",
      "execution_count": null,
      "metadata": {
        "colab": {
          "base_uri": "https://localhost:8080/"
        },
        "id": "52HPcvYiznpj",
        "outputId": "e066d1fe-a809-4582-f414-448c6f7c031c"
      },
      "outputs": [
        {
          "output_type": "stream",
          "name": "stdout",
          "text": [
            "Mounted at /content/drive\n"
          ]
        }
      ],
      "source": [
        "from google.colab import drive\n",
        "drive.mount('/content/drive')"
      ]
    },
    {
      "cell_type": "code",
      "execution_count": null,
      "metadata": {
        "colab": {
          "base_uri": "https://localhost:8080/"
        },
        "id": "P1GxIzk-nN7H",
        "outputId": "96fbe34b-0771-43cf-85a9-fc959f11a7b9"
      },
      "outputs": [
        {
          "output_type": "stream",
          "name": "stdout",
          "text": [
            "      Ticker         Date/Time   Open   High    Low  Close  Volume  \\\n",
            "0        FPT   12/25/2018 9:15  30.89  30.89  30.89  30.89   35410   \n",
            "1        FPT   12/25/2018 9:16  30.81  30.81  30.81  30.81     190   \n",
            "2        FPT   12/25/2018 9:17  30.74  30.81  30.74  30.74    1120   \n",
            "3        FPT   12/25/2018 9:18  30.74  30.74  30.74  30.74    2120   \n",
            "4        FPT   12/25/2018 9:19  30.74  30.74  30.74  30.74   22500   \n",
            "...      ...               ...    ...    ...    ...    ...     ...   \n",
            "97401    FPT  12/22/2020 14:24  58.20  58.20  58.20  58.20   27470   \n",
            "97402    FPT  12/22/2020 14:25  58.20  58.20  58.20  58.20   14820   \n",
            "97403    FPT  12/22/2020 14:26  58.20  58.20  58.20  58.20     500   \n",
            "97404    FPT  12/22/2020 14:29  58.10  58.10  58.10  58.10    2500   \n",
            "97405    FPT  12/22/2020 14:46  58.10  58.10  58.10  58.10   11170   \n",
            "\n",
            "       Open Interest  \n",
            "0                  0  \n",
            "1                  0  \n",
            "2                  0  \n",
            "3                  0  \n",
            "4                  0  \n",
            "...              ...  \n",
            "97401              0  \n",
            "97402              0  \n",
            "97403              0  \n",
            "97404              0  \n",
            "97405              0  \n",
            "\n",
            "[97406 rows x 8 columns]\n"
          ]
        }
      ],
      "source": [
        "import numpy as np\n",
        "import matplotlib.pyplot as plt\n",
        "import pandas as pd\n",
        "import os.path\n",
        "from os import path\n",
        "from sklearn.preprocessing import MinMaxScaler\n",
        "from keras.models import Sequential\n",
        "from keras.layers import Dense\n",
        "from keras.layers import LSTM\n",
        "from keras.layers import Dropout\n",
        "\n",
        "df = pd.read_csv(\"/content/drive/MyDrive/FPT.csv\")\n",
        "print(df)\n",
        "df = df.drop(['Ticker','Open','High','Low','Volume','Open Interest'],axis=1)"
      ]
    },
    {
      "cell_type": "code",
      "execution_count": null,
      "metadata": {
        "id": "pee2ute77zPT"
      },
      "outputs": [],
      "source": [
        "df['Date/Time'] = pd.to_datetime(df['Date/Time'])\n",
        "\n",
        "def create_full_time_range(x):\n",
        "    date = x['Date/Time'].dt.date.iloc[0]\n",
        "    full_time_range = pd.date_range(start=f'{date} 09:15:00', end=f'{date} 14:46:00', freq='min')\n",
        "    full_time_range = full_time_range[(full_time_range.time >= pd.to_datetime('9:15').time()) & (full_time_range.time <= pd.to_datetime('11:30').time()) | (full_time_range.time >= pd.to_datetime('13:00').time()) & (full_time_range.time <= pd.to_datetime('14:46').time())]\n",
        "    return pd.DataFrame({'Date/Time': full_time_range})\n",
        "\n",
        "full_df = df.groupby(df['Date/Time'].dt.date).apply(create_full_time_range).reset_index(drop=True)\n",
        "\n",
        "# Kết hợp dữ liệu ban đầu với dữ liệu được tạo ra\n",
        "result = pd.merge(full_df, df, on='Date/Time', how='left')\n",
        "# # Điền dữ liệu cho các cột khác\n",
        "result['Close'] = result['Close'].fillna(method='ffill')\n",
        "# Lấy dữ liệu cột Close\n",
        "data = result.iloc[:,[1]].values\n",
        "\n",
        "# Chuẩn hóa dữ liệu\n",
        "from sklearn.preprocessing import MinMaxScaler\n",
        "sc = MinMaxScaler(feature_range = (0, 1))\n",
        "data= sc.fit_transform(data)\n"
      ]
    },
    {
      "cell_type": "code",
      "execution_count": null,
      "metadata": {
        "colab": {
          "base_uri": "https://localhost:8080/"
        },
        "id": "hVw5gtPZnNRW",
        "outputId": "c8484ef9-90cf-41da-db6e-b4bb5f76aefd"
      },
      "outputs": [
        {
          "output_type": "stream",
          "name": "stdout",
          "text": [
            "(499, 243)\n"
          ]
        }
      ],
      "source": [
        "#Chia data theo ngày\n",
        "size=243\n",
        "temp=0\n",
        "day=[]\n",
        "dataset=[]\n",
        "for i in range(len(data)):\n",
        "  day.append(data[i])\n",
        "  temp+=1\n",
        "  if (temp==size):\n",
        "    temp=0\n",
        "    dataset.append(day)\n",
        "    day=[]\n",
        "dataset=np.asarray(dataset)\n",
        "dataset=dataset.reshape(len(dataset),size)\n",
        "print(dataset.shape)"
      ]
    },
    {
      "cell_type": "code",
      "source": [
        "# Chia data thành tập train và nhãn theo yêu cầu lấy dữ liệu 7 ngày để dự đoán cho 1 ngày kế tiếp\n",
        "wd_size=7\n",
        "h_size=1\n",
        "X_dataset = []\n",
        "y_dataset = []\n",
        "no_of_sample = len(dataset)\n",
        "for i in range(wd_size, no_of_sample):\n",
        "    X_dataset.append(dataset[i-wd_size:i])\n",
        "    y_dataset.append(dataset[i:i+h_size])\n",
        "X_dataset, y_dataset = np.array(X_dataset), np.array(y_dataset)\n",
        "\n",
        "X_dataset=X_dataset.reshape(no_of_sample - wd_size,size * wd_size,1)\n",
        "y_dataset=y_dataset.reshape(no_of_sample - wd_size,size)\n",
        "print(X_dataset.shape,y_dataset.shape)"
      ],
      "metadata": {
        "colab": {
          "base_uri": "https://localhost:8080/"
        },
        "id": "qzFfrcUICi3Y",
        "outputId": "67cd0b1f-f6a7-4ba6-9fc5-f4a49ee20d7b"
      },
      "execution_count": null,
      "outputs": [
        {
          "output_type": "stream",
          "name": "stdout",
          "text": [
            "(492, 1701, 1) (492, 243)\n"
          ]
        }
      ]
    },
    {
      "cell_type": "code",
      "source": [
        "# Phân chia tập train, test\n",
        "train_size = int(len(X_dataset) * 0.8)\n",
        "test_size = len(X_dataset) - train_size\n",
        "X_train, X_test = X_dataset[0:train_size,:], X_dataset[train_size:len(X_dataset),:]\n",
        "y_train, y_test = y_dataset[0:train_size,:], y_dataset[train_size:len(y_dataset),:]\n",
        "print(X_train.shape,y_train.shape)\n",
        "print(X_test.shape, y_test.shape)"
      ],
      "metadata": {
        "colab": {
          "base_uri": "https://localhost:8080/"
        },
        "id": "M-DdtUhGClVI",
        "outputId": "3ebc8e1f-7256-486f-c339-027e07aa0a18"
      },
      "execution_count": null,
      "outputs": [
        {
          "output_type": "stream",
          "name": "stdout",
          "text": [
            "(393, 1701, 1) (393, 243)\n",
            "(99, 1701, 1) (99, 243)\n"
          ]
        }
      ]
    },
    {
      "cell_type": "code",
      "source": [
        "# Xay dung model LSTM\n",
        "Myfinal = Sequential()\n",
        "Myfinal.add(LSTM(units = 50, return_sequences = True, input_shape = (X_train.shape[1], 1)))\n",
        "Myfinal.add(Dropout(0.2))\n",
        "Myfinal.add(LSTM(units = 50, return_sequences = True))\n",
        "Myfinal.add(Dropout(0.2))\n",
        "Myfinal.add(LSTM(units = 50, return_sequences = True))\n",
        "Myfinal.add(Dropout(0.2))\n",
        "Myfinal.add(LSTM(units = 50))\n",
        "Myfinal.add(Dropout(0.2))\n",
        "Myfinal.add(Dense(units = size))\n",
        "Myfinal.compile(optimizer = 'adam', loss = 'mean_squared_error')\n",
        "Myfinal.summary()"
      ],
      "metadata": {
        "colab": {
          "base_uri": "https://localhost:8080/"
        },
        "id": "EzHMTwciCnAm",
        "outputId": "d0a8c806-87fb-44b8-ad49-445c33367686"
      },
      "execution_count": null,
      "outputs": [
        {
          "output_type": "stream",
          "name": "stdout",
          "text": [
            "Model: \"sequential\"\n",
            "_________________________________________________________________\n",
            " Layer (type)                Output Shape              Param #   \n",
            "=================================================================\n",
            " lstm (LSTM)                 (None, 1701, 50)          10400     \n",
            "                                                                 \n",
            " dropout (Dropout)           (None, 1701, 50)          0         \n",
            "                                                                 \n",
            " lstm_1 (LSTM)               (None, 1701, 50)          20200     \n",
            "                                                                 \n",
            " dropout_1 (Dropout)         (None, 1701, 50)          0         \n",
            "                                                                 \n",
            " lstm_2 (LSTM)               (None, 1701, 50)          20200     \n",
            "                                                                 \n",
            " dropout_2 (Dropout)         (None, 1701, 50)          0         \n",
            "                                                                 \n",
            " lstm_3 (LSTM)               (None, 50)                20200     \n",
            "                                                                 \n",
            " dropout_3 (Dropout)         (None, 50)                0         \n",
            "                                                                 \n",
            " dense (Dense)               (None, 243)               12393     \n",
            "                                                                 \n",
            "=================================================================\n",
            "Total params: 83393 (325.75 KB)\n",
            "Trainable params: 83393 (325.75 KB)\n",
            "Non-trainable params: 0 (0.00 Byte)\n",
            "_________________________________________________________________\n"
          ]
        }
      ]
    },
    {
      "cell_type": "code",
      "source": [
        "Myfinal.fit(X_train, y_train, epochs = 150, batch_size = 32)\n",
        "Myfinal.save(\"Myfinal.h5\")"
      ],
      "metadata": {
        "colab": {
          "base_uri": "https://localhost:8080/"
        },
        "id": "wpRZ2gyTCqwo",
        "outputId": "acfd8c4d-e269-4c38-a40a-2ffee769889a"
      },
      "execution_count": null,
      "outputs": [
        {
          "output_type": "stream",
          "name": "stdout",
          "text": [
            "Epoch 1/150\n",
            "13/13 [==============================] - 60s 4s/step - loss: 0.1981\n",
            "Epoch 2/150\n",
            "13/13 [==============================] - 52s 4s/step - loss: 0.0758\n",
            "Epoch 3/150\n",
            "13/13 [==============================] - 50s 4s/step - loss: 0.0227\n",
            "Epoch 4/150\n",
            "13/13 [==============================] - 49s 4s/step - loss: 0.0132\n",
            "Epoch 5/150\n",
            "13/13 [==============================] - 50s 4s/step - loss: 0.0103\n",
            "Epoch 6/150\n",
            "13/13 [==============================] - 51s 4s/step - loss: 0.0090\n",
            "Epoch 7/150\n",
            "13/13 [==============================] - 49s 4s/step - loss: 0.0083\n",
            "Epoch 8/150\n",
            "13/13 [==============================] - 49s 4s/step - loss: 0.0085\n",
            "Epoch 9/150\n",
            "13/13 [==============================] - 51s 4s/step - loss: 0.0072\n",
            "Epoch 10/150\n",
            "13/13 [==============================] - 50s 4s/step - loss: 0.0065\n",
            "Epoch 11/150\n",
            "13/13 [==============================] - 49s 4s/step - loss: 0.0060\n",
            "Epoch 12/150\n",
            "13/13 [==============================] - 50s 4s/step - loss: 0.0067\n",
            "Epoch 13/150\n",
            "13/13 [==============================] - 50s 4s/step - loss: 0.0061\n",
            "Epoch 14/150\n",
            "13/13 [==============================] - 49s 4s/step - loss: 0.0052\n",
            "Epoch 15/150\n",
            "13/13 [==============================] - 49s 4s/step - loss: 0.0054\n",
            "Epoch 16/150\n",
            "13/13 [==============================] - 51s 4s/step - loss: 0.0048\n",
            "Epoch 17/150\n",
            "13/13 [==============================] - 59s 5s/step - loss: 0.0051\n",
            "Epoch 18/150\n",
            "13/13 [==============================] - 51s 4s/step - loss: 0.0046\n",
            "Epoch 19/150\n",
            "13/13 [==============================] - 51s 4s/step - loss: 0.0048\n",
            "Epoch 20/150\n",
            "13/13 [==============================] - 51s 4s/step - loss: 0.0045\n",
            "Epoch 21/150\n",
            "13/13 [==============================] - 51s 4s/step - loss: 0.0040\n",
            "Epoch 22/150\n",
            "13/13 [==============================] - 50s 4s/step - loss: 0.0042\n",
            "Epoch 23/150\n",
            "13/13 [==============================] - 49s 4s/step - loss: 0.0039\n",
            "Epoch 24/150\n",
            "13/13 [==============================] - 51s 4s/step - loss: 0.0044\n",
            "Epoch 25/150\n",
            "13/13 [==============================] - 49s 4s/step - loss: 0.0036\n",
            "Epoch 26/150\n",
            "13/13 [==============================] - 48s 4s/step - loss: 0.0036\n",
            "Epoch 27/150\n",
            "13/13 [==============================] - 50s 4s/step - loss: 0.0034\n",
            "Epoch 28/150\n",
            "13/13 [==============================] - 49s 4s/step - loss: 0.0034\n",
            "Epoch 29/150\n",
            "13/13 [==============================] - 49s 4s/step - loss: 0.0032\n",
            "Epoch 30/150\n",
            "13/13 [==============================] - 49s 4s/step - loss: 0.0033\n",
            "Epoch 31/150\n",
            "13/13 [==============================] - 52s 4s/step - loss: 0.0036\n",
            "Epoch 32/150\n",
            "13/13 [==============================] - 50s 4s/step - loss: 0.0031\n",
            "Epoch 33/150\n",
            "13/13 [==============================] - 50s 4s/step - loss: 0.0036\n",
            "Epoch 34/150\n",
            "13/13 [==============================] - 52s 4s/step - loss: 0.0033\n",
            "Epoch 35/150\n",
            "13/13 [==============================] - 50s 4s/step - loss: 0.0032\n",
            "Epoch 36/150\n",
            "13/13 [==============================] - 50s 4s/step - loss: 0.0029\n",
            "Epoch 37/150\n",
            "13/13 [==============================] - 52s 4s/step - loss: 0.0030\n",
            "Epoch 38/150\n",
            "13/13 [==============================] - 50s 4s/step - loss: 0.0039\n",
            "Epoch 39/150\n",
            "13/13 [==============================] - 50s 4s/step - loss: 0.0035\n",
            "Epoch 40/150\n",
            "13/13 [==============================] - 52s 4s/step - loss: 0.0027\n",
            "Epoch 41/150\n",
            "13/13 [==============================] - 49s 4s/step - loss: 0.0026\n",
            "Epoch 42/150\n",
            "13/13 [==============================] - 49s 4s/step - loss: 0.0029\n",
            "Epoch 43/150\n",
            "13/13 [==============================] - 50s 4s/step - loss: 0.0029\n",
            "Epoch 44/150\n",
            "13/13 [==============================] - 50s 4s/step - loss: 0.0032\n",
            "Epoch 45/150\n",
            "13/13 [==============================] - 49s 4s/step - loss: 0.0028\n",
            "Epoch 46/150\n",
            "13/13 [==============================] - 49s 4s/step - loss: 0.0025\n",
            "Epoch 47/150\n",
            "13/13 [==============================] - 52s 4s/step - loss: 0.0029\n",
            "Epoch 48/150\n",
            "13/13 [==============================] - 50s 4s/step - loss: 0.0026\n",
            "Epoch 49/150\n",
            "13/13 [==============================] - 50s 4s/step - loss: 0.0028\n",
            "Epoch 50/150\n",
            "13/13 [==============================] - 52s 4s/step - loss: 0.0025\n",
            "Epoch 51/150\n",
            "13/13 [==============================] - 50s 4s/step - loss: 0.0024\n",
            "Epoch 52/150\n",
            "13/13 [==============================] - 49s 4s/step - loss: 0.0024\n",
            "Epoch 53/150\n",
            "13/13 [==============================] - 52s 4s/step - loss: 0.0022\n",
            "Epoch 54/150\n",
            "13/13 [==============================] - 49s 4s/step - loss: 0.0022\n",
            "Epoch 55/150\n",
            "13/13 [==============================] - 50s 4s/step - loss: 0.0024\n",
            "Epoch 56/150\n",
            "13/13 [==============================] - 51s 4s/step - loss: 0.0022\n",
            "Epoch 57/150\n",
            "13/13 [==============================] - 50s 4s/step - loss: 0.0023\n",
            "Epoch 58/150\n",
            "13/13 [==============================] - 50s 4s/step - loss: 0.0020\n",
            "Epoch 59/150\n",
            "13/13 [==============================] - 52s 4s/step - loss: 0.0023\n",
            "Epoch 60/150\n",
            "13/13 [==============================] - 51s 4s/step - loss: 0.0028\n",
            "Epoch 61/150\n",
            "13/13 [==============================] - 53s 4s/step - loss: 0.0025\n",
            "Epoch 62/150\n",
            "13/13 [==============================] - 52s 4s/step - loss: 0.0026\n",
            "Epoch 63/150\n",
            "13/13 [==============================] - 52s 4s/step - loss: 0.0026\n",
            "Epoch 64/150\n",
            "13/13 [==============================] - 53s 4s/step - loss: 0.0021\n",
            "Epoch 65/150\n",
            "13/13 [==============================] - 52s 4s/step - loss: 0.0022\n",
            "Epoch 66/150\n",
            "13/13 [==============================] - 54s 4s/step - loss: 0.0019\n",
            "Epoch 67/150\n",
            "13/13 [==============================] - 51s 4s/step - loss: 0.0021\n",
            "Epoch 68/150\n",
            "13/13 [==============================] - 54s 4s/step - loss: 0.0021\n",
            "Epoch 69/150\n",
            "13/13 [==============================] - 50s 4s/step - loss: 0.0020\n",
            "Epoch 70/150\n",
            "13/13 [==============================] - 53s 4s/step - loss: 0.0025\n",
            "Epoch 71/150\n",
            "13/13 [==============================] - 52s 4s/step - loss: 0.0024\n",
            "Epoch 72/150\n",
            "13/13 [==============================] - 51s 4s/step - loss: 0.0022\n",
            "Epoch 73/150\n",
            "13/13 [==============================] - 53s 4s/step - loss: 0.0022\n",
            "Epoch 74/150\n",
            "13/13 [==============================] - 53s 4s/step - loss: 0.0020\n",
            "Epoch 75/150\n",
            "13/13 [==============================] - 53s 4s/step - loss: 0.0021\n",
            "Epoch 76/150\n",
            "13/13 [==============================] - 52s 4s/step - loss: 0.0018\n",
            "Epoch 77/150\n",
            "13/13 [==============================] - 54s 4s/step - loss: 0.0019\n",
            "Epoch 78/150\n",
            "13/13 [==============================] - 51s 4s/step - loss: 0.0019\n",
            "Epoch 79/150\n",
            "13/13 [==============================] - 52s 4s/step - loss: 0.0019\n",
            "Epoch 80/150\n",
            "13/13 [==============================] - 51s 4s/step - loss: 0.0017\n",
            "Epoch 81/150\n",
            "13/13 [==============================] - 51s 4s/step - loss: 0.0019\n",
            "Epoch 82/150\n",
            "13/13 [==============================] - 55s 4s/step - loss: 0.0020\n",
            "Epoch 83/150\n",
            "13/13 [==============================] - 53s 4s/step - loss: 0.0018\n",
            "Epoch 84/150\n",
            "13/13 [==============================] - 53s 4s/step - loss: 0.0020\n",
            "Epoch 85/150\n",
            "13/13 [==============================] - 51s 4s/step - loss: 0.0021\n",
            "Epoch 86/150\n",
            "13/13 [==============================] - 54s 4s/step - loss: 0.0018\n",
            "Epoch 87/150\n",
            "13/13 [==============================] - 51s 4s/step - loss: 0.0023\n",
            "Epoch 88/150\n",
            "13/13 [==============================] - 52s 4s/step - loss: 0.0019\n",
            "Epoch 89/150\n",
            "13/13 [==============================] - 52s 4s/step - loss: 0.0018\n",
            "Epoch 90/150\n",
            "13/13 [==============================] - 53s 4s/step - loss: 0.0018\n",
            "Epoch 91/150\n",
            "13/13 [==============================] - 53s 4s/step - loss: 0.0018\n",
            "Epoch 92/150\n",
            "13/13 [==============================] - 51s 4s/step - loss: 0.0016\n",
            "Epoch 93/150\n",
            "13/13 [==============================] - 52s 4s/step - loss: 0.0018\n",
            "Epoch 94/150\n",
            "13/13 [==============================] - 50s 4s/step - loss: 0.0018\n",
            "Epoch 95/150\n",
            "13/13 [==============================] - 53s 4s/step - loss: 0.0023\n",
            "Epoch 96/150\n",
            "13/13 [==============================] - 51s 4s/step - loss: 0.0021\n",
            "Epoch 97/150\n",
            "13/13 [==============================] - 50s 4s/step - loss: 0.0018\n",
            "Epoch 98/150\n",
            "13/13 [==============================] - 52s 4s/step - loss: 0.0016\n",
            "Epoch 99/150\n",
            "13/13 [==============================] - 49s 4s/step - loss: 0.0016\n",
            "Epoch 100/150\n",
            "13/13 [==============================] - 50s 4s/step - loss: 0.0019\n",
            "Epoch 101/150\n",
            "13/13 [==============================] - 52s 4s/step - loss: 0.0021\n",
            "Epoch 102/150\n",
            "13/13 [==============================] - 50s 4s/step - loss: 0.0016\n",
            "Epoch 103/150\n",
            "13/13 [==============================] - 49s 4s/step - loss: 0.0016\n",
            "Epoch 104/150\n",
            "13/13 [==============================] - 50s 4s/step - loss: 0.0016\n",
            "Epoch 105/150\n",
            "13/13 [==============================] - 54s 4s/step - loss: 0.0019\n",
            "Epoch 106/150\n",
            "13/13 [==============================] - 51s 4s/step - loss: 0.0018\n",
            "Epoch 107/150\n",
            "13/13 [==============================] - 52s 4s/step - loss: 0.0018\n",
            "Epoch 108/150\n",
            "13/13 [==============================] - 51s 4s/step - loss: 0.0015\n",
            "Epoch 109/150\n",
            "13/13 [==============================] - 52s 4s/step - loss: 0.0016\n",
            "Epoch 110/150\n",
            "13/13 [==============================] - 50s 4s/step - loss: 0.0017\n",
            "Epoch 111/150\n",
            "13/13 [==============================] - 49s 4s/step - loss: 0.0016\n",
            "Epoch 112/150\n",
            "13/13 [==============================] - 50s 4s/step - loss: 0.0016\n",
            "Epoch 113/150\n",
            "13/13 [==============================] - 50s 4s/step - loss: 0.0014\n",
            "Epoch 114/150\n",
            "13/13 [==============================] - 49s 4s/step - loss: 0.0014\n",
            "Epoch 115/150\n",
            "13/13 [==============================] - 49s 4s/step - loss: 0.0017\n",
            "Epoch 116/150\n",
            "13/13 [==============================] - 52s 4s/step - loss: 0.0015\n",
            "Epoch 117/150\n",
            "13/13 [==============================] - 49s 4s/step - loss: 0.0013\n",
            "Epoch 118/150\n",
            "13/13 [==============================] - 50s 4s/step - loss: 0.0015\n",
            "Epoch 119/150\n",
            "13/13 [==============================] - 51s 4s/step - loss: 0.0016\n",
            "Epoch 120/150\n",
            "13/13 [==============================] - 53s 4s/step - loss: 0.0016\n",
            "Epoch 121/150\n",
            "13/13 [==============================] - 51s 4s/step - loss: 0.0017\n",
            "Epoch 122/150\n",
            "13/13 [==============================] - 50s 4s/step - loss: 0.0018\n",
            "Epoch 123/150\n",
            "13/13 [==============================] - 49s 4s/step - loss: 0.0015\n",
            "Epoch 124/150\n",
            "13/13 [==============================] - 49s 4s/step - loss: 0.0015\n",
            "Epoch 125/150\n",
            "13/13 [==============================] - 51s 4s/step - loss: 0.0018\n",
            "Epoch 126/150\n",
            "13/13 [==============================] - 50s 4s/step - loss: 0.0015\n",
            "Epoch 127/150\n",
            "13/13 [==============================] - 50s 4s/step - loss: 0.0016\n",
            "Epoch 128/150\n",
            "13/13 [==============================] - 52s 4s/step - loss: 0.0017\n",
            "Epoch 129/150\n",
            "13/13 [==============================] - 51s 4s/step - loss: 0.0016\n",
            "Epoch 130/150\n",
            "13/13 [==============================] - 55s 4s/step - loss: 0.0016\n",
            "Epoch 131/150\n",
            "13/13 [==============================] - 52s 4s/step - loss: 0.0014\n",
            "Epoch 132/150\n",
            "13/13 [==============================] - 52s 4s/step - loss: 0.0012\n",
            "Epoch 133/150\n",
            "13/13 [==============================] - 53s 4s/step - loss: 0.0012\n",
            "Epoch 134/150\n",
            "13/13 [==============================] - 51s 4s/step - loss: 0.0016\n",
            "Epoch 135/150\n",
            "13/13 [==============================] - 53s 4s/step - loss: 0.0018\n",
            "Epoch 136/150\n",
            "13/13 [==============================] - 49s 4s/step - loss: 0.0013\n",
            "Epoch 137/150\n",
            "13/13 [==============================] - 50s 4s/step - loss: 0.0014\n",
            "Epoch 138/150\n",
            "13/13 [==============================] - 52s 4s/step - loss: 0.0014\n",
            "Epoch 139/150\n",
            "13/13 [==============================] - 49s 4s/step - loss: 0.0013\n",
            "Epoch 140/150\n",
            "13/13 [==============================] - 49s 4s/step - loss: 0.0014\n",
            "Epoch 141/150\n",
            "13/13 [==============================] - 50s 4s/step - loss: 0.0014\n",
            "Epoch 142/150\n",
            "13/13 [==============================] - 51s 4s/step - loss: 0.0013\n",
            "Epoch 143/150\n",
            "13/13 [==============================] - 50s 4s/step - loss: 0.0013\n",
            "Epoch 144/150\n",
            "13/13 [==============================] - 51s 4s/step - loss: 0.0015\n",
            "Epoch 145/150\n",
            "13/13 [==============================] - 50s 4s/step - loss: 0.0013\n",
            "Epoch 146/150\n",
            "13/13 [==============================] - 49s 4s/step - loss: 0.0014\n",
            "Epoch 147/150\n",
            "13/13 [==============================] - 50s 4s/step - loss: 0.0016\n",
            "Epoch 148/150\n",
            "13/13 [==============================] - 51s 4s/step - loss: 0.0013\n",
            "Epoch 149/150\n",
            "13/13 [==============================] - 51s 4s/step - loss: 0.0014\n",
            "Epoch 150/150\n",
            "13/13 [==============================] - 51s 4s/step - loss: 0.0015\n"
          ]
        },
        {
          "output_type": "stream",
          "name": "stderr",
          "text": [
            "/usr/local/lib/python3.10/dist-packages/keras/src/engine/training.py:3103: UserWarning: You are saving your model as an HDF5 file via `model.save()`. This file format is considered legacy. We recommend using instead the native Keras format, e.g. `model.save('my_model.keras')`.\n",
            "  saving_api.save_model(\n"
          ]
        }
      ]
    },
    {
      "cell_type": "code",
      "source": [
        "predicted_stock_price = Myfinal.predict(X_test)\n",
        "predicted_stock_price = sc.inverse_transform(predicted_stock_price)"
      ],
      "metadata": {
        "colab": {
          "base_uri": "https://localhost:8080/"
        },
        "id": "IwRVnM-mCtiu",
        "outputId": "dfadc2b9-4bfe-468a-fab1-d60ff64570c2"
      },
      "execution_count": null,
      "outputs": [
        {
          "output_type": "stream",
          "name": "stdout",
          "text": [
            "4/4 [==============================] - 7s 782ms/step\n"
          ]
        }
      ]
    },
    {
      "cell_type": "code",
      "source": [
        "# print(predicted_stock_price)\n",
        "print(predicted_stock_price.shape)"
      ],
      "metadata": {
        "colab": {
          "base_uri": "https://localhost:8080/"
        },
        "id": "3tkMIAZiCwFn",
        "outputId": "dc6b22b2-a60b-40b9-cfb8-70347baeeb2f"
      },
      "execution_count": null,
      "outputs": [
        {
          "output_type": "stream",
          "name": "stdout",
          "text": [
            "(99, 243)\n"
          ]
        }
      ]
    },
    {
      "cell_type": "code",
      "source": [
        "real_stock_price=sc.inverse_transform(y_test)"
      ],
      "metadata": {
        "id": "xRaia02_Cyb_"
      },
      "execution_count": null,
      "outputs": []
    },
    {
      "cell_type": "code",
      "source": [
        "plt.plot(real_stock_price, color = 'red')\n",
        "plt.plot(predicted_stock_price, color = 'blue')\n",
        "# plt.plot(predicted_stock_price - real_stock_price)\n",
        "plt.title('FPT Stock Price Prediction')\n",
        "plt.xlabel('Time')\n",
        "plt.ylabel('FPT Stock Price')\n",
        "plt.legend()\n",
        "plt.show()"
      ],
      "metadata": {
        "colab": {
          "base_uri": "https://localhost:8080/",
          "height": 509
        },
        "id": "nk08A0asC0gP",
        "outputId": "35946a9b-93f7-4fa6-e20e-56eaef873997"
      },
      "execution_count": null,
      "outputs": [
        {
          "output_type": "stream",
          "name": "stderr",
          "text": [
            "WARNING:matplotlib.legend:No artists with labels found to put in legend.  Note that artists whose label start with an underscore are ignored when legend() is called with no argument.\n"
          ]
        },
        {
          "output_type": "display_data",
          "data": {
            "text/plain": [
              "<Figure size 640x480 with 1 Axes>"
            ],
            "image/png": "[encoded data removed]"
          },
          "metadata": {}
        }
      ]
    },
    {
      "cell_type": "code",
      "source": [
        "real=[]\n",
        "predict=[]\n",
        "change=[]\n",
        "for i in range(0,98):\n",
        "  real.append(real_stock_price[i][242])\n",
        "  predict.append(predicted_stock_price[i][242])\n",
        "  change.append(real_stock_price[i][242]-predicted_stock_price[i][242])\n",
        "# plt.plot(real-predict, color = 'red')\n",
        "plt.plot(change, color = 'blue')\n",
        "plt.title('Biến động theo giá đóng cửa lúc 14h46')\n",
        "plt.xlabel('Time')\n",
        "plt.ylabel('FPT Stock Price')\n",
        "plt.legend()\n",
        "plt.show()"
      ],
      "metadata": {
        "colab": {
          "base_uri": "https://localhost:8080/",
          "height": 510
        },
        "id": "QXgGWGAKC4rf",
        "outputId": "da8a4b8f-6ecf-4512-b20b-028e83644a9f"
      },
      "execution_count": null,
      "outputs": [
        {
          "output_type": "stream",
          "name": "stderr",
          "text": [
            "WARNING:matplotlib.legend:No artists with labels found to put in legend.  Note that artists whose label start with an underscore are ignored when legend() is called with no argument.\n"
          ]
        },
        {
          "output_type": "display_data",
          "data": {
            "text/plain": [
              "<Figure size 640x480 with 1 Axes>"
            ],
            "image/png": "[encoded data removed]"
          },
          "metadata": {}
        }
      ]
    }
  ],
  "metadata": {
    "colab": {
      "provenance": [],
      "include_colab_link": true
    },
    "kernelspec": {
      "display_name": "Python 3",
      "name": "python3"
    }
  },
  "nbformat": 4,
  "nbformat_minor": 0
}